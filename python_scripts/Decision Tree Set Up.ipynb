{
 "cells": [
  {
   "cell_type": "markdown",
   "metadata": {},
   "source": [
    "# Decision Tree"
   ]
  },
  {
   "cell_type": "markdown",
   "metadata": {},
   "source": [
    "## Data Cleaning"
   ]
  },
  {
   "cell_type": "markdown",
   "metadata": {},
   "source": [
    "### ADULT Dataset"
   ]
  },
  {
   "cell_type": "code",
   "execution_count": 1,
   "metadata": {},
   "outputs": [
    {
     "data": {
      "text/html": [
       "<div>\n",
       "<style scoped>\n",
       "    .dataframe tbody tr th:only-of-type {\n",
       "        vertical-align: middle;\n",
       "    }\n",
       "\n",
       "    .dataframe tbody tr th {\n",
       "        vertical-align: top;\n",
       "    }\n",
       "\n",
       "    .dataframe thead th {\n",
       "        text-align: right;\n",
       "    }\n",
       "</style>\n",
       "<table border=\"1\" class=\"dataframe\">\n",
       "  <thead>\n",
       "    <tr style=\"text-align: right;\">\n",
       "      <th></th>\n",
       "      <th>age</th>\n",
       "      <th>workclass</th>\n",
       "      <th>education</th>\n",
       "      <th>education num</th>\n",
       "      <th>marital status</th>\n",
       "      <th>occupation</th>\n",
       "      <th>relationship</th>\n",
       "      <th>race</th>\n",
       "      <th>sex</th>\n",
       "      <th>capital gain</th>\n",
       "      <th>capital loss</th>\n",
       "      <th>hours per week</th>\n",
       "      <th>country</th>\n",
       "      <th>income</th>\n",
       "    </tr>\n",
       "  </thead>\n",
       "  <tbody>\n",
       "    <tr>\n",
       "      <th>0</th>\n",
       "      <td>50</td>\n",
       "      <td>0</td>\n",
       "      <td>12</td>\n",
       "      <td>13</td>\n",
       "      <td>1</td>\n",
       "      <td>0</td>\n",
       "      <td>0</td>\n",
       "      <td>0</td>\n",
       "      <td>0</td>\n",
       "      <td>0</td>\n",
       "      <td>0</td>\n",
       "      <td>13</td>\n",
       "      <td>1</td>\n",
       "      <td>0</td>\n",
       "    </tr>\n",
       "    <tr>\n",
       "      <th>1</th>\n",
       "      <td>38</td>\n",
       "      <td>5</td>\n",
       "      <td>8</td>\n",
       "      <td>9</td>\n",
       "      <td>4</td>\n",
       "      <td>1</td>\n",
       "      <td>1</td>\n",
       "      <td>0</td>\n",
       "      <td>0</td>\n",
       "      <td>0</td>\n",
       "      <td>0</td>\n",
       "      <td>40</td>\n",
       "      <td>1</td>\n",
       "      <td>0</td>\n",
       "    </tr>\n",
       "    <tr>\n",
       "      <th>2</th>\n",
       "      <td>53</td>\n",
       "      <td>5</td>\n",
       "      <td>6</td>\n",
       "      <td>7</td>\n",
       "      <td>1</td>\n",
       "      <td>1</td>\n",
       "      <td>0</td>\n",
       "      <td>1</td>\n",
       "      <td>0</td>\n",
       "      <td>0</td>\n",
       "      <td>0</td>\n",
       "      <td>40</td>\n",
       "      <td>1</td>\n",
       "      <td>0</td>\n",
       "    </tr>\n",
       "    <tr>\n",
       "      <th>3</th>\n",
       "      <td>28</td>\n",
       "      <td>5</td>\n",
       "      <td>12</td>\n",
       "      <td>13</td>\n",
       "      <td>1</td>\n",
       "      <td>2</td>\n",
       "      <td>2</td>\n",
       "      <td>1</td>\n",
       "      <td>1</td>\n",
       "      <td>0</td>\n",
       "      <td>0</td>\n",
       "      <td>40</td>\n",
       "      <td>0</td>\n",
       "      <td>0</td>\n",
       "    </tr>\n",
       "    <tr>\n",
       "      <th>4</th>\n",
       "      <td>37</td>\n",
       "      <td>5</td>\n",
       "      <td>13</td>\n",
       "      <td>14</td>\n",
       "      <td>1</td>\n",
       "      <td>0</td>\n",
       "      <td>2</td>\n",
       "      <td>0</td>\n",
       "      <td>1</td>\n",
       "      <td>0</td>\n",
       "      <td>0</td>\n",
       "      <td>40</td>\n",
       "      <td>1</td>\n",
       "      <td>0</td>\n",
       "    </tr>\n",
       "  </tbody>\n",
       "</table>\n",
       "</div>"
      ],
      "text/plain": [
       "   age  workclass  education  education num  marital status  occupation  \\\n",
       "0   50          0         12             13               1           0   \n",
       "1   38          5          8              9               4           1   \n",
       "2   53          5          6              7               1           1   \n",
       "3   28          5         12             13               1           2   \n",
       "4   37          5         13             14               1           0   \n",
       "\n",
       "   relationship  race  sex  capital gain  capital loss  hours per week  \\\n",
       "0             0     0    0             0             0              13   \n",
       "1             1     0    0             0             0              40   \n",
       "2             0     1    0             0             0              40   \n",
       "3             2     1    1             0             0              40   \n",
       "4             2     0    1             0             0              40   \n",
       "\n",
       "   country  income  \n",
       "0        1       0  \n",
       "1        1       0  \n",
       "2        1       0  \n",
       "3        0       0  \n",
       "4        1       0  "
      ]
     },
     "execution_count": 1,
     "metadata": {},
     "output_type": "execute_result"
    }
   ],
   "source": [
    "import numpy as np\n",
    "import pandas as pd\n",
    "from sklearn import svm, datasets \n",
    "adult = pd.read_csv('adult.data')\n",
    "adult.columns = ['age', 'workclass', 'fnlwgt', 'education', 'education num', 'marital status', 'occupation', 'relationship', 'race', 'sex', 'capital gain', 'capital loss', 'hours per week', 'country', 'income']\n",
    "\n",
    "#replaces any empty spots with a blank space\n",
    "adult['workclass'] = adult['workclass'].replace(' ?', np.nan)\n",
    "adult['occupation'] = adult['occupation'].replace(' ?', np.nan)\n",
    "adult['country'] = adult['country'].replace(' ?', np.nan)\n",
    "\n",
    "#takes out any blank spaces in the dataset\n",
    "adult.dropna(how='any', inplace=True)\n",
    "\n",
    "#drops fnlwgt column\n",
    "adult.drop(['fnlwgt'], axis=1, inplace=True)\n",
    "\n",
    "#one-hot encoding\n",
    "adult['workclass'] = adult['workclass'].map({' Self-emp-not-inc': 0,\n",
    "                                            ' Self-emp-inc': 1,\n",
    "                                            ' Local-gov': 2,\n",
    "                                            ' State-gov': 3,\n",
    "                                            ' Federal-gov': 4,\n",
    "                                            ' Private': 5,\n",
    "                                            ' Without-pay': 6,})\n",
    "adult['education'] = adult['education'].map({' Preschool': 0,\n",
    "                                            ' 1st-4th': 1,\n",
    "                                            ' 5th-6th': 2,\n",
    "                                            ' 7th-8th': 3,\n",
    "                                            ' 9th': 4,\n",
    "                                            ' 10th': 5,\n",
    "                                            ' 11th': 6,\n",
    "                                            ' 12th': 7,\n",
    "                                            ' HS-grad': 8,\n",
    "                                            ' Some-college': 9,\n",
    "                                            ' Assoc-acdm': 10,\n",
    "                                            ' Assoc-voc': 11,\n",
    "                                            ' Bachelors': 12,\n",
    "                                            ' Masters': 13,\n",
    "                                            ' Doctorate': 14,\n",
    "                                            ' Prof-school': 15})\n",
    "adult['marital status'] = adult['marital status'].map({' Never-married': 0,\n",
    "                                                      ' Married-civ-spouse': 1,\n",
    "                                                      ' Married-AF-spouse': 2,\n",
    "                                                      ' Married-spouse-absent': 3,\n",
    "                                                      ' Divorced': 4,\n",
    "                                                      ' Separated': 5,\n",
    "                                                      ' Widowed': 6})\n",
    "adult['occupation'] = adult['occupation'].map({' Exec-managerial': 0,\n",
    "                                              ' Handlers-cleaners': 1,\n",
    "                                              ' Prof-specialty': 2,\n",
    "                                              ' Other-service': 3,\n",
    "                                              ' Adm-clerical': 4,\n",
    "                                              ' Sales': 5,\n",
    "                                              ' Transport-moving': 6,\n",
    "                                              ' Farming-fishing': 7,\n",
    "                                              ' Machine-op-inspct': 8,\n",
    "                                              ' Tech-support': 9,\n",
    "                                              ' Craft-repair': 10,\n",
    "                                              ' Protective-serv': 11,\n",
    "                                              ' Armed-Forces': 12,\n",
    "                                              ' Priv-house-serv': 13})\n",
    "adult['relationship'] = adult['relationship'].map({' Husband': 0,\n",
    "                                                  ' Not-in-family': 1,\n",
    "                                                  ' Wife': 2,\n",
    "                                                  ' Own-child': 3,\n",
    "                                                  ' Unmarried': 4,\n",
    "                                                  ' Other-relative': 5})\n",
    "adult['race'] = adult['race'].map({' White': 0, ' Black': 1, \n",
    "                                  ' Asian-Pac-Islander': 2,\n",
    "                                  ' Amer-Indian-Eskimo': 3,\n",
    "                                  ' Other': 4})\n",
    "adult['country'] = np.where(adult['country'] != ' United-States', 0, 1)\n",
    "adult['sex'] = adult['sex'].map({' Male': 0, ' Female': 1})\n",
    "adult['income'] = adult['income'].map({' <=50K': 0, ' >50K': 1})\n",
    "adult.head()"
   ]
  },
  {
   "cell_type": "markdown",
   "metadata": {},
   "source": [
    "### LETTER Dataset"
   ]
  },
  {
   "cell_type": "code",
   "execution_count": 2,
   "metadata": {},
   "outputs": [
    {
     "data": {
      "text/html": [
       "<div>\n",
       "<style scoped>\n",
       "    .dataframe tbody tr th:only-of-type {\n",
       "        vertical-align: middle;\n",
       "    }\n",
       "\n",
       "    .dataframe tbody tr th {\n",
       "        vertical-align: top;\n",
       "    }\n",
       "\n",
       "    .dataframe thead th {\n",
       "        text-align: right;\n",
       "    }\n",
       "</style>\n",
       "<table border=\"1\" class=\"dataframe\">\n",
       "  <thead>\n",
       "    <tr style=\"text-align: right;\">\n",
       "      <th></th>\n",
       "      <th>lettr</th>\n",
       "      <th>x-box</th>\n",
       "      <th>y-box</th>\n",
       "      <th>width</th>\n",
       "      <th>height</th>\n",
       "      <th>pixels</th>\n",
       "      <th>x-bar</th>\n",
       "      <th>y-bar</th>\n",
       "      <th>x2bar</th>\n",
       "      <th>y2bar</th>\n",
       "      <th>xybar</th>\n",
       "      <th>x2ybr</th>\n",
       "      <th>xy2br</th>\n",
       "      <th>x ege</th>\n",
       "      <th>xegvy</th>\n",
       "      <th>y-ege</th>\n",
       "      <th>yegvx</th>\n",
       "    </tr>\n",
       "  </thead>\n",
       "  <tbody>\n",
       "    <tr>\n",
       "      <th>0</th>\n",
       "      <td>0</td>\n",
       "      <td>5</td>\n",
       "      <td>12</td>\n",
       "      <td>3</td>\n",
       "      <td>7</td>\n",
       "      <td>2</td>\n",
       "      <td>10</td>\n",
       "      <td>5</td>\n",
       "      <td>5</td>\n",
       "      <td>4</td>\n",
       "      <td>13</td>\n",
       "      <td>3</td>\n",
       "      <td>9</td>\n",
       "      <td>2</td>\n",
       "      <td>8</td>\n",
       "      <td>4</td>\n",
       "      <td>10</td>\n",
       "    </tr>\n",
       "    <tr>\n",
       "      <th>1</th>\n",
       "      <td>0</td>\n",
       "      <td>4</td>\n",
       "      <td>11</td>\n",
       "      <td>6</td>\n",
       "      <td>8</td>\n",
       "      <td>6</td>\n",
       "      <td>10</td>\n",
       "      <td>6</td>\n",
       "      <td>2</td>\n",
       "      <td>6</td>\n",
       "      <td>10</td>\n",
       "      <td>3</td>\n",
       "      <td>7</td>\n",
       "      <td>3</td>\n",
       "      <td>7</td>\n",
       "      <td>3</td>\n",
       "      <td>9</td>\n",
       "    </tr>\n",
       "    <tr>\n",
       "      <th>2</th>\n",
       "      <td>1</td>\n",
       "      <td>7</td>\n",
       "      <td>11</td>\n",
       "      <td>6</td>\n",
       "      <td>6</td>\n",
       "      <td>3</td>\n",
       "      <td>5</td>\n",
       "      <td>9</td>\n",
       "      <td>4</td>\n",
       "      <td>6</td>\n",
       "      <td>4</td>\n",
       "      <td>4</td>\n",
       "      <td>10</td>\n",
       "      <td>6</td>\n",
       "      <td>10</td>\n",
       "      <td>2</td>\n",
       "      <td>8</td>\n",
       "    </tr>\n",
       "    <tr>\n",
       "      <th>3</th>\n",
       "      <td>0</td>\n",
       "      <td>2</td>\n",
       "      <td>1</td>\n",
       "      <td>3</td>\n",
       "      <td>1</td>\n",
       "      <td>1</td>\n",
       "      <td>8</td>\n",
       "      <td>6</td>\n",
       "      <td>6</td>\n",
       "      <td>6</td>\n",
       "      <td>6</td>\n",
       "      <td>5</td>\n",
       "      <td>9</td>\n",
       "      <td>1</td>\n",
       "      <td>7</td>\n",
       "      <td>5</td>\n",
       "      <td>10</td>\n",
       "    </tr>\n",
       "    <tr>\n",
       "      <th>4</th>\n",
       "      <td>1</td>\n",
       "      <td>4</td>\n",
       "      <td>11</td>\n",
       "      <td>5</td>\n",
       "      <td>8</td>\n",
       "      <td>3</td>\n",
       "      <td>8</td>\n",
       "      <td>8</td>\n",
       "      <td>6</td>\n",
       "      <td>9</td>\n",
       "      <td>5</td>\n",
       "      <td>6</td>\n",
       "      <td>6</td>\n",
       "      <td>0</td>\n",
       "      <td>8</td>\n",
       "      <td>9</td>\n",
       "      <td>7</td>\n",
       "    </tr>\n",
       "  </tbody>\n",
       "</table>\n",
       "</div>"
      ],
      "text/plain": [
       "   lettr  x-box  y-box  width  height  pixels  x-bar  y-bar  x2bar  y2bar  \\\n",
       "0      0      5     12      3       7       2     10      5      5      4   \n",
       "1      0      4     11      6       8       6     10      6      2      6   \n",
       "2      1      7     11      6       6       3      5      9      4      6   \n",
       "3      0      2      1      3       1       1      8      6      6      6   \n",
       "4      1      4     11      5       8       3      8      8      6      9   \n",
       "\n",
       "   xybar  x2ybr  xy2br  x ege  xegvy  y-ege  yegvx  \n",
       "0     13      3      9      2      8      4     10  \n",
       "1     10      3      7      3      7      3      9  \n",
       "2      4      4     10      6     10      2      8  \n",
       "3      6      5      9      1      7      5     10  \n",
       "4      5      6      6      0      8      9      7  "
      ]
     },
     "execution_count": 2,
     "metadata": {},
     "output_type": "execute_result"
    }
   ],
   "source": [
    "letter = pd.read_csv('letter-recognition.data')\n",
    "letter.columns = ['lettr', 'x-box', 'y-box', 'width', 'height', \n",
    "                  'pixels', 'x-bar', 'y-bar', 'x2bar', 'y2bar', \n",
    "                  'xybar', 'x2ybr', 'xy2br', 'x ege', 'xegvy',\n",
    "                  'y-ege', 'yegvx']\n",
    "\n",
    "#one-hot encoding\n",
    "letter['lettr'] = letter['lettr'].map({\n",
    "    'A':0, 'B':0, 'C':0, 'D':0, 'E':0, 'F':0, 'G':0, 'H':0, 'I':0,\n",
    "    'J':0, 'K':0, 'L':0, 'M':0, 'N':1, 'O':1, 'P':1, 'Q':1, 'R':1,\n",
    "    'S':1, 'T':1, 'U':1, 'V':1, 'W':1, 'X':1, 'Y':1, 'Z':1})\n",
    "letter.head()"
   ]
  },
  {
   "cell_type": "markdown",
   "metadata": {},
   "source": [
    "### CHESS Dataset"
   ]
  },
  {
   "cell_type": "code",
   "execution_count": 3,
   "metadata": {
    "scrolled": true
   },
   "outputs": [
    {
     "data": {
      "text/html": [
       "<div>\n",
       "<style scoped>\n",
       "    .dataframe tbody tr th:only-of-type {\n",
       "        vertical-align: middle;\n",
       "    }\n",
       "\n",
       "    .dataframe tbody tr th {\n",
       "        vertical-align: top;\n",
       "    }\n",
       "\n",
       "    .dataframe thead th {\n",
       "        text-align: right;\n",
       "    }\n",
       "</style>\n",
       "<table border=\"1\" class=\"dataframe\">\n",
       "  <thead>\n",
       "    <tr style=\"text-align: right;\">\n",
       "      <th></th>\n",
       "      <th>White King file</th>\n",
       "      <th>White King rank</th>\n",
       "      <th>White Rook file</th>\n",
       "      <th>White Rook rank</th>\n",
       "      <th>Black King file</th>\n",
       "      <th>Black King rank</th>\n",
       "      <th>Optimal Depth of Win</th>\n",
       "    </tr>\n",
       "  </thead>\n",
       "  <tbody>\n",
       "    <tr>\n",
       "      <th>0</th>\n",
       "      <td>0</td>\n",
       "      <td>1</td>\n",
       "      <td>2</td>\n",
       "      <td>1</td>\n",
       "      <td>2</td>\n",
       "      <td>2</td>\n",
       "      <td>0</td>\n",
       "    </tr>\n",
       "    <tr>\n",
       "      <th>1</th>\n",
       "      <td>0</td>\n",
       "      <td>1</td>\n",
       "      <td>2</td>\n",
       "      <td>1</td>\n",
       "      <td>3</td>\n",
       "      <td>1</td>\n",
       "      <td>0</td>\n",
       "    </tr>\n",
       "    <tr>\n",
       "      <th>2</th>\n",
       "      <td>0</td>\n",
       "      <td>1</td>\n",
       "      <td>2</td>\n",
       "      <td>1</td>\n",
       "      <td>3</td>\n",
       "      <td>2</td>\n",
       "      <td>0</td>\n",
       "    </tr>\n",
       "    <tr>\n",
       "      <th>3</th>\n",
       "      <td>0</td>\n",
       "      <td>1</td>\n",
       "      <td>2</td>\n",
       "      <td>2</td>\n",
       "      <td>2</td>\n",
       "      <td>1</td>\n",
       "      <td>0</td>\n",
       "    </tr>\n",
       "    <tr>\n",
       "      <th>4</th>\n",
       "      <td>0</td>\n",
       "      <td>1</td>\n",
       "      <td>2</td>\n",
       "      <td>2</td>\n",
       "      <td>2</td>\n",
       "      <td>3</td>\n",
       "      <td>0</td>\n",
       "    </tr>\n",
       "  </tbody>\n",
       "</table>\n",
       "</div>"
      ],
      "text/plain": [
       "   White King file  White King rank  White Rook file  White Rook rank  \\\n",
       "0                0                1                2                1   \n",
       "1                0                1                2                1   \n",
       "2                0                1                2                1   \n",
       "3                0                1                2                2   \n",
       "4                0                1                2                2   \n",
       "\n",
       "   Black King file  Black King rank  Optimal Depth of Win  \n",
       "0                2                2                     0  \n",
       "1                3                1                     0  \n",
       "2                3                2                     0  \n",
       "3                2                1                     0  \n",
       "4                2                3                     0  "
      ]
     },
     "execution_count": 3,
     "metadata": {},
     "output_type": "execute_result"
    }
   ],
   "source": [
    "chess = pd.read_csv('krkopt.data')\n",
    "chess.columns = ['White King file', 'White King rank', 'White Rook file',\n",
    "                 'White Rook rank', 'Black King file', \n",
    "                 'Black King rank', 'Optimal Depth of Win']\n",
    "\n",
    "#one-hot encoding\n",
    "chess['White King file'] = chess['White King file'].map({'a': 0, 'b': 1,\n",
    "                                                        'c': 2, 'd': 3})\n",
    "chess['White Rook file'] = chess['White Rook file'].map({'a': 0, 'b': 1,\n",
    "                                                        'c': 2, 'd': 3,\n",
    "                                                        'e': 4, 'f': 5,\n",
    "                                                        'g': 6, 'h': 7})\n",
    "chess['Black King file'] = chess['Black King file'].map({'a': 0, 'b': 1,\n",
    "                                                        'c': 2, 'd': 3,\n",
    "                                                        'e': 4, 'f': 5,\n",
    "                                                        'g': 6, 'h': 7})\n",
    "chess['Optimal Depth of Win'] = chess['Optimal Depth of Win'].map({\n",
    "    'zero': 1, 'one': 1, 'two': 1, 'three': 1, 'four': 1, 'five': 1,\n",
    "    'six': 1, 'seven': 1, 'eight': 1, 'nine': 0, 'ten': 0, 'eleven': 0,\n",
    "    'twelve': 0, 'thirteen': 0, 'fourteen': 0, 'fifteen': 0, \n",
    "    'sixteen': 0, 'draw': 0})\n",
    "chess.head()"
   ]
  },
  {
   "cell_type": "markdown",
   "metadata": {},
   "source": [
    "### OCCUPANCY Dataset"
   ]
  },
  {
   "cell_type": "code",
   "execution_count": 4,
   "metadata": {},
   "outputs": [
    {
     "data": {
      "text/html": [
       "<div>\n",
       "<style scoped>\n",
       "    .dataframe tbody tr th:only-of-type {\n",
       "        vertical-align: middle;\n",
       "    }\n",
       "\n",
       "    .dataframe tbody tr th {\n",
       "        vertical-align: top;\n",
       "    }\n",
       "\n",
       "    .dataframe thead th {\n",
       "        text-align: right;\n",
       "    }\n",
       "</style>\n",
       "<table border=\"1\" class=\"dataframe\">\n",
       "  <thead>\n",
       "    <tr style=\"text-align: right;\">\n",
       "      <th></th>\n",
       "      <th>Temperature</th>\n",
       "      <th>Humidity</th>\n",
       "      <th>Light</th>\n",
       "      <th>CO2</th>\n",
       "      <th>HumidityRatio</th>\n",
       "      <th>Occupancy</th>\n",
       "    </tr>\n",
       "  </thead>\n",
       "  <tbody>\n",
       "    <tr>\n",
       "      <th>1</th>\n",
       "      <td>23.18</td>\n",
       "      <td>27.2720</td>\n",
       "      <td>426.0</td>\n",
       "      <td>721.25</td>\n",
       "      <td>0.004793</td>\n",
       "      <td>1</td>\n",
       "    </tr>\n",
       "    <tr>\n",
       "      <th>2</th>\n",
       "      <td>23.15</td>\n",
       "      <td>27.2675</td>\n",
       "      <td>429.5</td>\n",
       "      <td>714.00</td>\n",
       "      <td>0.004783</td>\n",
       "      <td>1</td>\n",
       "    </tr>\n",
       "    <tr>\n",
       "      <th>3</th>\n",
       "      <td>23.15</td>\n",
       "      <td>27.2450</td>\n",
       "      <td>426.0</td>\n",
       "      <td>713.50</td>\n",
       "      <td>0.004779</td>\n",
       "      <td>1</td>\n",
       "    </tr>\n",
       "    <tr>\n",
       "      <th>4</th>\n",
       "      <td>23.15</td>\n",
       "      <td>27.2000</td>\n",
       "      <td>426.0</td>\n",
       "      <td>708.25</td>\n",
       "      <td>0.004772</td>\n",
       "      <td>1</td>\n",
       "    </tr>\n",
       "    <tr>\n",
       "      <th>5</th>\n",
       "      <td>23.10</td>\n",
       "      <td>27.2000</td>\n",
       "      <td>426.0</td>\n",
       "      <td>704.50</td>\n",
       "      <td>0.004757</td>\n",
       "      <td>1</td>\n",
       "    </tr>\n",
       "  </tbody>\n",
       "</table>\n",
       "</div>"
      ],
      "text/plain": [
       "   Temperature  Humidity  Light     CO2  HumidityRatio  Occupancy\n",
       "1        23.18   27.2720  426.0  721.25       0.004793          1\n",
       "2        23.15   27.2675  429.5  714.00       0.004783          1\n",
       "3        23.15   27.2450  426.0  713.50       0.004779          1\n",
       "4        23.15   27.2000  426.0  708.25       0.004772          1\n",
       "5        23.10   27.2000  426.0  704.50       0.004757          1"
      ]
     },
     "execution_count": 4,
     "metadata": {},
     "output_type": "execute_result"
    }
   ],
   "source": [
    "occupancy = pd.read_csv('occupancy_data.txt')\n",
    "\n",
    "#drop unnecessary column\n",
    "occupancy = occupancy.drop('date',axis=1)\n",
    "occupancy.head()"
   ]
  },
  {
   "cell_type": "markdown",
   "metadata": {},
   "source": [
    "## Data Analysis\n",
    "\n",
    "### Training DT"
   ]
  },
  {
   "cell_type": "code",
   "execution_count": 24,
   "metadata": {},
   "outputs": [],
   "source": [
    "from sklearn.model_selection import train_test_split\n",
    "from sklearn.preprocessing import StandardScaler\n",
    "from sklearn.linear_model import LogisticRegression\n",
    "from sklearn.svm import SVC\n",
    "from sklearn.model_selection import GridSearchCV\n",
    "from sklearn.pipeline import Pipeline\n",
    "from sklearn.model_selection import StratifiedKFold\n",
    "from sklearn.tree import DecisionTreeClassifier\n",
    "from sklearn.metrics import classification_report\n",
    "from sklearn.metrics import accuracy_score\n",
    "from sklearn.metrics import roc_auc_score\n",
    "from sklearn.metrics import f1_score\n",
    "\n",
    "NUM_TRIALS = 5\n",
    "\n",
    "#adult data & target\n",
    "X_a = adult.drop('income', axis=1)\n",
    "Y_a = adult['income']\n",
    "\n",
    "#letter data & target\n",
    "X_l = letter.drop('lettr', axis=1)\n",
    "Y_l = letter['lettr']\n",
    "\n",
    "#chess data & target\n",
    "X_c = chess.drop('Optimal Depth of Win', axis=1)\n",
    "Y_c = chess['Optimal Depth of Win']\n",
    "\n",
    "#occupancy data & target\n",
    "X_o = occupancy.drop('Occupancy',axis=1)\n",
    "Y_o = occupancy['Occupancy']"
   ]
  },
  {
   "cell_type": "code",
   "execution_count": 84,
   "metadata": {},
   "outputs": [
    {
     "name": "stdout",
     "output_type": "stream",
     "text": [
      "CPU times: user 5.4 s, sys: 0 ns, total: 5.4 s\n",
      "Wall time: 5.4 s\n"
     ]
    }
   ],
   "source": [
    "%%time\n",
    "pipe = Pipeline([('std', StandardScaler()),\n",
    "                 ('classifier', DecisionTreeClassifier())])\n",
    "X_a_train, X_a_test, Y_a_train, Y_a_test = train_test_split(X_a,Y_a,\n",
    "                                                           train_size=5000)\n",
    "X_l_train, X_l_test, Y_l_train, Y_l_test = train_test_split(X_l,Y_l,\n",
    "                                                           train_size=5000)\n",
    "X_c_train, X_c_test, Y_c_train, Y_c_test = train_test_split(X_c,Y_c,\n",
    "                                                           train_size=5000)\n",
    "X_o_train, X_o_test, Y_o_train, Y_o_test = train_test_split(X_o,Y_o,\n",
    "                                                           train_size=5000)\n",
    "\n",
    "# Create search space of candidate learning algorithms and their hyperparameters\n",
    "# note lbfgs can't do l1, and if you pass penalty='none' it expects no C value\n",
    "search_space = [{'classifier': [DecisionTreeClassifier()],\n",
    "                 'classifier__criterion': ['entropy'],\n",
    "                 'classifier__max_depth': [1,2,3,4],\n",
    "                 'classifier__min_samples_split': [2,3,4,5]},\n",
    "                {'classifier': [DecisionTreeClassifier()],\n",
    "                 'classifier__criterion': ['gini'],\n",
    "                 'classifier__max_depth': [1,2,3,4],\n",
    "                 'classifier__min_samples_split': [2,3,4,5]},\n",
    "                {'classifier': [DecisionTreeClassifier()],\n",
    "                 'classifier__criterion': ['gini','entropy'],\n",
    "                 'classifier__min_samples_split': [2,3]},\n",
    "                ]\n",
    "\n",
    "# Create grid search \n",
    "model = GridSearchCV(pipe, search_space, cv=StratifiedKFold(n_splits=5), \n",
    "                   scoring=['accuracy', 'roc_auc_ovr', 'f1_micro'], refit=False,\n",
    "                   verbose=0)\n",
    "\n",
    "# Fit grid search\n",
    "model_adult =  model.fit(X_a_train, Y_a_train)\n",
    "model_letter =  model.fit(X_l_train, Y_l_train)\n",
    "model_chess =  model.fit(X_c_train, Y_c_train)\n",
    "model_occupancy =  model.fit(X_o_train, Y_o_train)\n",
    "\n",
    "\n",
    "# below we will get a bunch of warnings as some hyperparameters settings don't converge"
   ]
  },
  {
   "cell_type": "markdown",
   "metadata": {},
   "source": [
    "## Raw Tables"
   ]
  },
  {
   "cell_type": "code",
   "execution_count": 2,
   "metadata": {},
   "outputs": [],
   "source": [
    "#function that finds the average\n",
    "def avg(array):\n",
    "    return sum(array)/len(array)"
   ]
  },
  {
   "cell_type": "markdown",
   "metadata": {},
   "source": [
    "### Accuracy"
   ]
  },
  {
   "cell_type": "code",
   "execution_count": 88,
   "metadata": {},
   "outputs": [
    {
     "data": {
      "text/plain": [
       "[0.9894444444444441,\n",
       " 0.9877777777777772,\n",
       " 0.9891111111111106,\n",
       " 0.9868055555555557,\n",
       " 0.989694444444444,\n",
       " 0.9894444444444441,\n",
       " 0.9877777777777772,\n",
       " 0.9891111111111106,\n",
       " 0.9868055555555557,\n",
       " 0.989694444444444,\n",
       " 0.9894444444444441,\n",
       " 0.9877777777777772,\n",
       " 0.9891111111111106,\n",
       " 0.9868055555555557,\n",
       " 0.989694444444444,\n",
       " 0.9894444444444441,\n",
       " 0.9877777777777772,\n",
       " 0.9891111111111106,\n",
       " 0.9868055555555557,\n",
       " 0.989694444444444]"
      ]
     },
     "execution_count": 88,
     "metadata": {},
     "output_type": "execute_result"
    }
   ],
   "source": [
    "adult_acc_1 = avg(model_adult.cv_results_['split0_test_accuracy'])\n",
    "adult_acc_2 = avg(model_adult.cv_results_['split1_test_accuracy'])\n",
    "adult_acc_3 = avg(model_adult.cv_results_['split2_test_accuracy'])\n",
    "adult_acc_4 = avg(model_adult.cv_results_['split3_test_accuracy'])\n",
    "adult_acc_5 = avg(model_adult.cv_results_['split4_test_accuracy'])\n",
    "letter_acc_1 = avg(model_letter.cv_results_['split0_test_accuracy'])\n",
    "letter_acc_2 = avg(model_letter.cv_results_['split1_test_accuracy'])\n",
    "letter_acc_3 = avg(model_letter.cv_results_['split2_test_accuracy'])\n",
    "letter_acc_4 = avg(model_letter.cv_results_['split3_test_accuracy'])\n",
    "letter_acc_5 = avg(model_letter.cv_results_['split4_test_accuracy'])\n",
    "chess_acc_1 = avg(model_chess.cv_results_['split0_test_accuracy'])\n",
    "chess_acc_2 = avg(model_chess.cv_results_['split1_test_accuracy'])\n",
    "chess_acc_3 = avg(model_chess.cv_results_['split2_test_accuracy'])\n",
    "chess_acc_4 = avg(model_chess.cv_results_['split3_test_accuracy'])\n",
    "chess_acc_5 = avg(model_chess.cv_results_['split4_test_accuracy'])\n",
    "occupancy_acc_1 = avg(model_occupancy.cv_results_['split0_test_accuracy'])\n",
    "occupancy_acc_2 = avg(model_occupancy.cv_results_['split1_test_accuracy'])\n",
    "occupancy_acc_3 = avg(model_occupancy.cv_results_['split2_test_accuracy'])\n",
    "occupancy_acc_4 = avg(model_occupancy.cv_results_['split3_test_accuracy'])\n",
    "occupancy_acc_5 = avg(model_occupancy.cv_results_['split4_test_accuracy'])\n",
    "dt_acc = [adult_acc_1, adult_acc_2, adult_acc_3, adult_acc_4, adult_acc_5,\n",
    "          letter_acc_1, letter_acc_2, letter_acc_3, letter_acc_4, letter_acc_5,\n",
    "          chess_acc_1, chess_acc_2, chess_acc_3, chess_acc_4, chess_acc_5,\n",
    "          occupancy_acc_1, occupancy_acc_2, occupancy_acc_3, occupancy_acc_4, occupancy_acc_5]\n",
    "dt_acc"
   ]
  },
  {
   "cell_type": "markdown",
   "metadata": {},
   "source": [
    "### ROC AUC"
   ]
  },
  {
   "cell_type": "code",
   "execution_count": 89,
   "metadata": {},
   "outputs": [
    {
     "data": {
      "text/plain": [
       "[0.9938074657599846,\n",
       " 0.9934345036661028,\n",
       " 0.9925113268737559,\n",
       " 0.9904523865583328,\n",
       " 0.9946747730634574,\n",
       " 0.9938074657599846,\n",
       " 0.9934345036661028,\n",
       " 0.9925113268737559,\n",
       " 0.9904523865583328,\n",
       " 0.9946747730634574,\n",
       " 0.9938074657599846,\n",
       " 0.9934345036661028,\n",
       " 0.9925113268737559,\n",
       " 0.9904523865583328,\n",
       " 0.9946747730634574,\n",
       " 0.9938074657599846,\n",
       " 0.9934345036661028,\n",
       " 0.9925113268737559,\n",
       " 0.9904523865583328,\n",
       " 0.9946747730634574]"
      ]
     },
     "execution_count": 89,
     "metadata": {},
     "output_type": "execute_result"
    }
   ],
   "source": [
    "adult_roc_1 = avg(model_adult.cv_results_['split0_test_roc_auc_ovr'])\n",
    "adult_roc_2 = avg(model_adult.cv_results_['split1_test_roc_auc_ovr'])\n",
    "adult_roc_3 = avg(model_adult.cv_results_['split2_test_roc_auc_ovr'])\n",
    "adult_roc_4 = avg(model_adult.cv_results_['split3_test_roc_auc_ovr'])\n",
    "adult_roc_5 = avg(model_adult.cv_results_['split4_test_roc_auc_ovr'])\n",
    "letter_roc_1 = avg(model_letter.cv_results_['split0_test_roc_auc_ovr'])\n",
    "letter_roc_2 = avg(model_letter.cv_results_['split1_test_roc_auc_ovr'])\n",
    "letter_roc_3 = avg(model_letter.cv_results_['split2_test_roc_auc_ovr'])\n",
    "letter_roc_4 = avg(model_letter.cv_results_['split3_test_roc_auc_ovr'])\n",
    "letter_roc_5 = avg(model_letter.cv_results_['split4_test_roc_auc_ovr'])\n",
    "chess_roc_1 = avg(model_chess.cv_results_['split0_test_roc_auc_ovr'])\n",
    "chess_roc_2 = avg(model_chess.cv_results_['split1_test_roc_auc_ovr'])\n",
    "chess_roc_3 = avg(model_chess.cv_results_['split2_test_roc_auc_ovr'])\n",
    "chess_roc_4 = avg(model_chess.cv_results_['split3_test_roc_auc_ovr'])\n",
    "chess_roc_5 = avg(model_chess.cv_results_['split4_test_roc_auc_ovr'])\n",
    "occupancy_roc_1 = avg(model_occupancy.cv_results_['split0_test_roc_auc_ovr'])\n",
    "occupancy_roc_2 = avg(model_occupancy.cv_results_['split1_test_roc_auc_ovr'])\n",
    "occupancy_roc_3 = avg(model_occupancy.cv_results_['split2_test_roc_auc_ovr'])\n",
    "occupancy_roc_4 = avg(model_occupancy.cv_results_['split3_test_roc_auc_ovr'])\n",
    "occupancy_roc_5 = avg(model_occupancy.cv_results_['split4_test_roc_auc_ovr'])\n",
    "dt_roc = [adult_roc_1, adult_roc_2, adult_roc_3, adult_roc_4, adult_roc_5,\n",
    "          letter_roc_1, letter_roc_2, letter_roc_3, letter_roc_4, letter_roc_5,\n",
    "          chess_roc_1, chess_roc_2, chess_roc_3, chess_roc_4, chess_roc_5,\n",
    "          occupancy_roc_1, occupancy_roc_2, occupancy_roc_3, occupancy_roc_4, occupancy_roc_5]\n",
    "dt_roc"
   ]
  },
  {
   "cell_type": "markdown",
   "metadata": {},
   "source": [
    "### F1"
   ]
  },
  {
   "cell_type": "code",
   "execution_count": 90,
   "metadata": {},
   "outputs": [
    {
     "data": {
      "text/plain": [
       "[0.9894444444444441,\n",
       " 0.9877777777777772,\n",
       " 0.9891111111111106,\n",
       " 0.9868055555555557,\n",
       " 0.989694444444444,\n",
       " 0.9894444444444441,\n",
       " 0.9877777777777772,\n",
       " 0.9891111111111106,\n",
       " 0.9868055555555557,\n",
       " 0.989694444444444,\n",
       " 0.9894444444444441,\n",
       " 0.9877777777777772,\n",
       " 0.9891111111111106,\n",
       " 0.9868055555555557,\n",
       " 0.989694444444444,\n",
       " 0.9894444444444441,\n",
       " 0.9877777777777772,\n",
       " 0.9891111111111106,\n",
       " 0.9868055555555557,\n",
       " 0.989694444444444]"
      ]
     },
     "execution_count": 90,
     "metadata": {},
     "output_type": "execute_result"
    }
   ],
   "source": [
    "adult_f1_1 = avg(model_adult.cv_results_['split0_test_f1_micro'])\n",
    "adult_f1_2 = avg(model_adult.cv_results_['split1_test_f1_micro'])\n",
    "adult_f1_3 = avg(model_adult.cv_results_['split2_test_f1_micro'])\n",
    "adult_f1_4 = avg(model_adult.cv_results_['split3_test_f1_micro'])\n",
    "adult_f1_5 = avg(model_adult.cv_results_['split4_test_f1_micro'])\n",
    "letter_f1_1 = avg(model_letter.cv_results_['split0_test_f1_micro'])\n",
    "letter_f1_2 = avg(model_letter.cv_results_['split1_test_f1_micro'])\n",
    "letter_f1_3 = avg(model_letter.cv_results_['split2_test_f1_micro'])\n",
    "letter_f1_4 = avg(model_letter.cv_results_['split3_test_f1_micro'])\n",
    "letter_f1_5 = avg(model_letter.cv_results_['split4_test_f1_micro'])\n",
    "chess_f1_1 = avg(model_chess.cv_results_['split0_test_f1_micro'])\n",
    "chess_f1_2 = avg(model_chess.cv_results_['split1_test_f1_micro'])\n",
    "chess_f1_3 = avg(model_chess.cv_results_['split2_test_f1_micro'])\n",
    "chess_f1_4 = avg(model_chess.cv_results_['split3_test_f1_micro'])\n",
    "chess_f1_5 = avg(model_chess.cv_results_['split4_test_f1_micro'])\n",
    "occupancy_f1_1 = avg(model_occupancy.cv_results_['split0_test_f1_micro'])\n",
    "occupancy_f1_2 = avg(model_occupancy.cv_results_['split1_test_f1_micro'])\n",
    "occupancy_f1_3 = avg(model_occupancy.cv_results_['split2_test_f1_micro'])\n",
    "occupancy_f1_4 = avg(model_occupancy.cv_results_['split3_test_f1_micro'])\n",
    "occupancy_f1_5 = avg(model_occupancy.cv_results_['split4_test_f1_micro'])\n",
    "dt_f1 = [adult_f1_1, adult_f1_2, adult_f1_3, adult_f1_4, adult_f1_5,\n",
    "          letter_f1_1, letter_f1_2, letter_f1_3, letter_f1_4, letter_f1_5,\n",
    "          chess_f1_1, chess_f1_2, chess_f1_3, chess_f1_4, chess_f1_5,\n",
    "          occupancy_f1_1, occupancy_f1_2, occupancy_f1_3, occupancy_f1_4, occupancy_f1_5]\n",
    "dt_f1"
   ]
  },
  {
   "cell_type": "markdown",
   "metadata": {},
   "source": [
    "### Analysis on ADULT"
   ]
  },
  {
   "cell_type": "code",
   "execution_count": 64,
   "metadata": {},
   "outputs": [
    {
     "name": "stdout",
     "output_type": "stream",
     "text": [
      "Training Accuracy Set: \n",
      "               precision    recall  f1-score   support\n",
      "\n",
      "           0       0.85      0.95      0.90      3815\n",
      "           1       0.76      0.47      0.58      1185\n",
      "\n",
      "    accuracy                           0.84      5000\n",
      "   macro avg       0.81      0.71      0.74      5000\n",
      "weighted avg       0.83      0.84      0.83      5000\n",
      "\n",
      "Testing Accuracy Set: \n",
      "               precision    recall  f1-score   support\n",
      "\n",
      "           0       0.84      0.96      0.90     18838\n",
      "           1       0.78      0.48      0.59      6323\n",
      "\n",
      "    accuracy                           0.84     25161\n",
      "   macro avg       0.81      0.72      0.74     25161\n",
      "weighted avg       0.83      0.84      0.82     25161\n",
      "\n"
     ]
    }
   ],
   "source": [
    "#classification report on accuracy\n",
    "param_adult_accuracy = model_adult.cv_results_['params'][np.argmin(model_adult.cv_results_['rank_test_accuracy'])]\n",
    "pipe.set_params(**param_adult_accuracy)\n",
    "pipe.fit(X_a_train, Y_a_train)\n",
    "Y_a_train_pred_accuracy = pipe.predict(X_a_train)\n",
    "print(\"Training Accuracy Set: \\n\", classification_report(Y_a_train,Y_a_train_pred_accuracy))\n",
    "\n",
    "pipe.set_params(**param_adult_accuracy)\n",
    "pipe.fit(X_a_test, Y_a_test)\n",
    "Y_a_test_pred_accuracy = pipe.predict(X_a_test)\n",
    "print(\"Testing Accuracy Set: \\n\", classification_report(Y_a_test,Y_a_test_pred_accuracy))\n"
   ]
  },
  {
   "cell_type": "code",
   "execution_count": 65,
   "metadata": {},
   "outputs": [
    {
     "name": "stdout",
     "output_type": "stream",
     "text": [
      "Training ROC AUC Set: \n",
      "               precision    recall  f1-score   support\n",
      "\n",
      "           0       0.85      0.95      0.90      3815\n",
      "           1       0.76      0.47      0.58      1185\n",
      "\n",
      "    accuracy                           0.84      5000\n",
      "   macro avg       0.81      0.71      0.74      5000\n",
      "weighted avg       0.83      0.84      0.83      5000\n",
      "\n",
      "Testing ROC AUC Set: \n",
      "               precision    recall  f1-score   support\n",
      "\n",
      "           0       0.84      0.96      0.90     18838\n",
      "           1       0.78      0.48      0.59      6323\n",
      "\n",
      "    accuracy                           0.84     25161\n",
      "   macro avg       0.81      0.72      0.74     25161\n",
      "weighted avg       0.83      0.84      0.82     25161\n",
      "\n"
     ]
    }
   ],
   "source": [
    "#classification report on roc_auc_ovr\n",
    "param_adult_roc_auc_ovr = model_adult.cv_results_['params'][np.argmin(model_adult.cv_results_['rank_test_roc_auc_ovr'])]\n",
    "pipe.set_params(**param_adult_roc_auc_ovr)\n",
    "pipe.fit(X_a_train, Y_a_train)\n",
    "Y_a_train_pred_roc_auc_ovr = pipe.predict(X_a_train)\n",
    "print(\"Training ROC AUC Set: \\n\", classification_report(Y_a_train,Y_a_train_pred_roc_auc_ovr))\n",
    "\n",
    "pipe.set_params(**param_adult_roc_auc_ovr)\n",
    "pipe.fit(X_a_test, Y_a_test)\n",
    "Y_a_test_pred_roc_auc_ovr = pipe.predict(X_a_test)\n",
    "print(\"Testing ROC AUC Set: \\n\", classification_report(Y_a_test,Y_a_test_pred_roc_auc_ovr))\n"
   ]
  },
  {
   "cell_type": "code",
   "execution_count": 66,
   "metadata": {},
   "outputs": [
    {
     "name": "stdout",
     "output_type": "stream",
     "text": [
      "Training F1 Micro Set\n",
      "               precision    recall  f1-score   support\n",
      "\n",
      "           0       0.85      0.95      0.90      3815\n",
      "           1       0.76      0.47      0.58      1185\n",
      "\n",
      "    accuracy                           0.84      5000\n",
      "   macro avg       0.81      0.71      0.74      5000\n",
      "weighted avg       0.83      0.84      0.83      5000\n",
      "\n",
      "Testing F1 Micro Set\n",
      "               precision    recall  f1-score   support\n",
      "\n",
      "           0       0.84      0.96      0.90     18838\n",
      "           1       0.78      0.48      0.59      6323\n",
      "\n",
      "    accuracy                           0.84     25161\n",
      "   macro avg       0.81      0.72      0.74     25161\n",
      "weighted avg       0.83      0.84      0.82     25161\n",
      "\n"
     ]
    }
   ],
   "source": [
    "#classification report on f1_micro\n",
    "param_adult_f1_micro = model_adult.cv_results_['params'][np.argmin(model_adult.cv_results_['rank_test_f1_micro'])]\n",
    "pipe.set_params(**param_adult_f1_micro)\n",
    "pipe.fit(X_a_train, Y_a_train)\n",
    "Y_a_train_pred_f1_micro = pipe.predict(X_a_train)\n",
    "print(\"Training F1 Micro Set\\n\",classification_report(Y_a_train,Y_a_train_pred_f1_micro))\n",
    "\n",
    "pipe.set_params(**param_adult_f1_micro)\n",
    "pipe.fit(X_a_test, Y_a_test)\n",
    "Y_a_test_pred_f1_micro = pipe.predict(X_a_test)\n",
    "print(\"Testing F1 Micro Set\\n\", classification_report(Y_a_test,Y_a_test_pred_f1_micro))\n"
   ]
  },
  {
   "cell_type": "markdown",
   "metadata": {},
   "source": [
    "### Analysis on LETTER"
   ]
  },
  {
   "cell_type": "code",
   "execution_count": 67,
   "metadata": {},
   "outputs": [
    {
     "name": "stdout",
     "output_type": "stream",
     "text": [
      "Training Accuracy Set: \n",
      "               precision    recall  f1-score   support\n",
      "\n",
      "           0       0.71      0.83      0.76      2510\n",
      "           1       0.79      0.65      0.72      2490\n",
      "\n",
      "    accuracy                           0.74      5000\n",
      "   macro avg       0.75      0.74      0.74      5000\n",
      "weighted avg       0.75      0.74      0.74      5000\n",
      "\n",
      "Testing Accuracy Set: \n",
      "               precision    recall  f1-score   support\n",
      "\n",
      "           0       0.78      0.60      0.68      7430\n",
      "           1       0.68      0.84      0.75      7569\n",
      "\n",
      "    accuracy                           0.72     14999\n",
      "   macro avg       0.73      0.72      0.71     14999\n",
      "weighted avg       0.73      0.72      0.71     14999\n",
      "\n"
     ]
    }
   ],
   "source": [
    "#classification report on accuracy\n",
    "param_letter_accuracy = model_letter.cv_results_['params'][np.argmin(model_letter.cv_results_['rank_test_accuracy'])]\n",
    "pipe.set_params(**param_letter_accuracy)\n",
    "pipe.fit(X_l_train, Y_l_train)\n",
    "Y_l_train_pred_accuracy = pipe.predict(X_l_train)\n",
    "print(\"Training Accuracy Set: \\n\", classification_report(Y_l_train,Y_l_train_pred_accuracy))\n",
    "\n",
    "pipe.set_params(**param_adult_accuracy)\n",
    "pipe.fit(X_l_test, Y_l_test)\n",
    "Y_l_test_pred_accuracy = pipe.predict(X_l_test)\n",
    "print(\"Testing Accuracy Set: \\n\", classification_report(Y_l_test,Y_l_test_pred_accuracy))\n",
    "\n"
   ]
  },
  {
   "cell_type": "code",
   "execution_count": 68,
   "metadata": {},
   "outputs": [
    {
     "name": "stdout",
     "output_type": "stream",
     "text": [
      "Training ROC AUC Set: \n",
      "               precision    recall  f1-score   support\n",
      "\n",
      "           0       0.66      0.84      0.74      2510\n",
      "           1       0.78      0.57      0.66      2490\n",
      "\n",
      "    accuracy                           0.71      5000\n",
      "   macro avg       0.72      0.71      0.70      5000\n",
      "weighted avg       0.72      0.71      0.70      5000\n",
      "\n",
      "Testing ROC AUC Set: \n",
      "               precision    recall  f1-score   support\n",
      "\n",
      "           0       0.76      0.60      0.67      7430\n",
      "           1       0.68      0.82      0.74      7569\n",
      "\n",
      "    accuracy                           0.71     14999\n",
      "   macro avg       0.72      0.71      0.71     14999\n",
      "weighted avg       0.72      0.71      0.71     14999\n",
      "\n"
     ]
    }
   ],
   "source": [
    "#classification report on roc_auc_ovr\n",
    "param_letter_roc_auc_ovr = model_letter.cv_results_['params'][np.argmin(model_letter.cv_results_['rank_test_roc_auc_ovr'])]\n",
    "pipe.set_params(**param_letter_roc_auc_ovr)\n",
    "pipe.fit(X_l_train, Y_l_train)\n",
    "Y_l_train_pred_roc_auc_ovr = pipe.predict(X_l_train)\n",
    "print(\"Training ROC AUC Set: \\n\", classification_report(Y_l_train,Y_l_train_pred_roc_auc_ovr))\n",
    "\n",
    "pipe.set_params(**param_adult_roc_auc_ovr)\n",
    "pipe.fit(X_l_test, Y_l_test)\n",
    "Y_l_test_pred_roc_auc_ovr = pipe.predict(X_l_test)\n",
    "print(\"Testing ROC AUC Set: \\n\", classification_report(Y_l_test,Y_l_test_pred_roc_auc_ovr))\n"
   ]
  },
  {
   "cell_type": "code",
   "execution_count": 69,
   "metadata": {},
   "outputs": [
    {
     "name": "stdout",
     "output_type": "stream",
     "text": [
      "Training F1 Micro Set\n",
      "               precision    recall  f1-score   support\n",
      "\n",
      "           0       0.71      0.83      0.76      2510\n",
      "           1       0.79      0.65      0.72      2490\n",
      "\n",
      "    accuracy                           0.74      5000\n",
      "   macro avg       0.75      0.74      0.74      5000\n",
      "weighted avg       0.75      0.74      0.74      5000\n",
      "\n",
      "Testing F1 Micro Set\n",
      "               precision    recall  f1-score   support\n",
      "\n",
      "           0       0.78      0.60      0.68      7430\n",
      "           1       0.68      0.84      0.75      7569\n",
      "\n",
      "    accuracy                           0.72     14999\n",
      "   macro avg       0.73      0.72      0.71     14999\n",
      "weighted avg       0.73      0.72      0.71     14999\n",
      "\n"
     ]
    }
   ],
   "source": [
    "#classification report on f1_micro\n",
    "param_letter_f1_micro = model_letter.cv_results_['params'][np.argmin(model_letter.cv_results_['rank_test_f1_micro'])]\n",
    "pipe.set_params(**param_letter_f1_micro)\n",
    "pipe.fit(X_l_train, Y_l_train)\n",
    "Y_l_train_pred_f1_micro = pipe.predict(X_l_train)\n",
    "print(\"Training F1 Micro Set\\n\",classification_report(Y_l_train,Y_l_train_pred_f1_micro))\n",
    "\n",
    "pipe.set_params(**param_adult_f1_micro)\n",
    "pipe.fit(X_l_test, Y_l_test)\n",
    "Y_l_test_pred_f1_micro = pipe.predict(X_l_test)\n",
    "print(\"Testing F1 Micro Set\\n\", classification_report(Y_l_test,Y_l_test_pred_f1_micro))\n"
   ]
  },
  {
   "cell_type": "markdown",
   "metadata": {},
   "source": [
    "### Analysis on CHESS"
   ]
  },
  {
   "cell_type": "code",
   "execution_count": 77,
   "metadata": {},
   "outputs": [
    {
     "name": "stdout",
     "output_type": "stream",
     "text": [
      "Training Accuracy Set: \n",
      "               precision    recall  f1-score   support\n",
      "\n",
      "           0       0.94      0.96      0.95      4311\n",
      "           1       0.73      0.61      0.67       689\n",
      "\n",
      "    accuracy                           0.92      5000\n",
      "   macro avg       0.84      0.79      0.81      5000\n",
      "weighted avg       0.91      0.92      0.91      5000\n",
      "\n",
      "Testing Accuracy Set: \n",
      "               precision    recall  f1-score   support\n",
      "\n",
      "           0       0.95      0.96      0.95     19935\n",
      "           1       0.72      0.70      0.71      3120\n",
      "\n",
      "    accuracy                           0.92     23055\n",
      "   macro avg       0.83      0.83      0.83     23055\n",
      "weighted avg       0.92      0.92      0.92     23055\n",
      "\n"
     ]
    }
   ],
   "source": [
    "#classification report on accuracy\n",
    "param_chess_accuracy = model_chess.cv_results_['params'][np.argmin(model_chess.cv_results_['rank_test_accuracy'])]\n",
    "pipe.set_params(**param_chess_accuracy)\n",
    "pipe.fit(X_c_train, Y_c_train)\n",
    "Y_c_train_pred_accuracy = pipe.predict(X_c_train)\n",
    "print(\"Training Accuracy Set: \\n\", classification_report(Y_c_train,Y_c_train_pred_accuracy))\n",
    "\n",
    "pipe.set_params(**param_adult_accuracy)\n",
    "pipe.fit(X_c_test, Y_c_test)\n",
    "Y_c_test_pred_accuracy = pipe.predict(X_c_test)\n",
    "print(\"Testing Accuracy Set: \\n\", classification_report(Y_c_test,Y_c_test_pred_accuracy))\n"
   ]
  },
  {
   "cell_type": "code",
   "execution_count": 71,
   "metadata": {},
   "outputs": [
    {
     "name": "stdout",
     "output_type": "stream",
     "text": [
      "Training ROC AUC Set: \n",
      "               precision    recall  f1-score   support\n",
      "\n",
      "           0       0.90      0.99      0.94      4311\n",
      "           1       0.85      0.31      0.46       689\n",
      "\n",
      "    accuracy                           0.90      5000\n",
      "   macro avg       0.88      0.65      0.70      5000\n",
      "weighted avg       0.89      0.90      0.88      5000\n",
      "\n",
      "Testing ROC AUC Set: \n",
      "               precision    recall  f1-score   support\n",
      "\n",
      "           0       0.91      0.99      0.95     19935\n",
      "           1       0.80      0.36      0.50      3120\n",
      "\n",
      "    accuracy                           0.90     23055\n",
      "   macro avg       0.86      0.68      0.72     23055\n",
      "weighted avg       0.89      0.90      0.89     23055\n",
      "\n"
     ]
    }
   ],
   "source": [
    "#classification report on roc_auc_ovr\n",
    "param_chess_roc_auc_ovr = model_chess.cv_results_['params'][np.argmin(model_chess.cv_results_['rank_test_roc_auc_ovr'])]\n",
    "pipe.set_params(**param_chess_roc_auc_ovr)\n",
    "pipe.fit(X_c_train, Y_c_train)\n",
    "Y_c_train_pred_roc_auc_ovr = pipe.predict(X_c_train)\n",
    "print(\"Training ROC AUC Set: \\n\", classification_report(Y_c_train,Y_c_train_pred_roc_auc_ovr))\n",
    "\n",
    "pipe.set_params(**param_adult_roc_auc_ovr)\n",
    "pipe.fit(X_c_test, Y_c_test)\n",
    "Y_c_test_pred_roc_auc_ovr = pipe.predict(X_c_test)\n",
    "print(\"Testing ROC AUC Set: \\n\", classification_report(Y_c_test,Y_c_test_pred_roc_auc_ovr))\n",
    "\n"
   ]
  },
  {
   "cell_type": "code",
   "execution_count": 72,
   "metadata": {
    "scrolled": true
   },
   "outputs": [
    {
     "name": "stdout",
     "output_type": "stream",
     "text": [
      "Training F1 Micro Set\n",
      "               precision    recall  f1-score   support\n",
      "\n",
      "           0       0.94      0.96      0.95      4311\n",
      "           1       0.73      0.61      0.67       689\n",
      "\n",
      "    accuracy                           0.92      5000\n",
      "   macro avg       0.84      0.79      0.81      5000\n",
      "weighted avg       0.91      0.92      0.91      5000\n",
      "\n",
      "Testing F1 Micro Set\n",
      "               precision    recall  f1-score   support\n",
      "\n",
      "           0       0.95      0.96      0.95     19935\n",
      "           1       0.72      0.70      0.71      3120\n",
      "\n",
      "    accuracy                           0.92     23055\n",
      "   macro avg       0.83      0.83      0.83     23055\n",
      "weighted avg       0.92      0.92      0.92     23055\n",
      "\n"
     ]
    }
   ],
   "source": [
    "#classification report on f1_micro\n",
    "param_chess_f1_micro = model_chess.cv_results_['params'][np.argmin(model_chess.cv_results_['rank_test_f1_micro'])]\n",
    "pipe.set_params(**param_chess_f1_micro)\n",
    "pipe.fit(X_c_train, Y_c_train)\n",
    "Y_c_train_pred_f1_micro = pipe.predict(X_c_train)\n",
    "print(\"Training F1 Micro Set\\n\",classification_report(Y_c_train,Y_c_train_pred_f1_micro))\n",
    "\n",
    "pipe.set_params(**param_adult_f1_micro)\n",
    "pipe.fit(X_c_test, Y_c_test)\n",
    "Y_c_test_pred_f1_micro = pipe.predict(X_c_test)\n",
    "print(\"Testing F1 Micro Set\\n\", classification_report(Y_c_test,Y_c_test_pred_f1_micro))"
   ]
  },
  {
   "cell_type": "markdown",
   "metadata": {},
   "source": [
    "### Analysis on OCCUPANCY"
   ]
  },
  {
   "cell_type": "code",
   "execution_count": 79,
   "metadata": {},
   "outputs": [
    {
     "name": "stdout",
     "output_type": "stream",
     "text": [
      "Training Accuracy Set: \n",
      "               precision    recall  f1-score   support\n",
      "\n",
      "           0       1.00      1.00      1.00      3961\n",
      "           1       0.99      0.99      0.99      1039\n",
      "\n",
      "    accuracy                           1.00      5000\n",
      "   macro avg       0.99      0.99      0.99      5000\n",
      "weighted avg       1.00      1.00      1.00      5000\n",
      "\n",
      "Testing Accuracy Set: \n",
      "               precision    recall  f1-score   support\n",
      "\n",
      "           0       1.00      1.00      1.00      2453\n",
      "           1       0.98      0.99      0.99       690\n",
      "\n",
      "    accuracy                           0.99      3143\n",
      "   macro avg       0.99      0.99      0.99      3143\n",
      "weighted avg       0.99      0.99      0.99      3143\n",
      "\n"
     ]
    }
   ],
   "source": [
    "#classification report on accuracy\n",
    "param_occupancy_accuracy = model_occupancy.cv_results_['params'][np.argmin(model_occupancy.cv_results_['rank_test_accuracy'])]\n",
    "pipe.set_params(**param_occupancy_accuracy)\n",
    "pipe.fit(X_o_train, Y_o_train)\n",
    "Y_o_train_pred_accuracy = pipe.predict(X_o_train)\n",
    "print(\"Training Accuracy Set: \\n\", classification_report(Y_o_train,Y_o_train_pred_accuracy))\n",
    "\n",
    "pipe.set_params(**param_adult_accuracy)\n",
    "pipe.fit(X_o_test, Y_o_test)\n",
    "Y_o_test_pred_accuracy = pipe.predict(X_o_test)\n",
    "print(\"Testing Accuracy Set: \\n\", classification_report(Y_o_test,Y_o_test_pred_accuracy))\n"
   ]
  },
  {
   "cell_type": "code",
   "execution_count": 74,
   "metadata": {},
   "outputs": [
    {
     "name": "stdout",
     "output_type": "stream",
     "text": [
      "Training ROC AUC Set: \n",
      "               precision    recall  f1-score   support\n",
      "\n",
      "           0       0.99      0.99      0.99      3961\n",
      "           1       0.98      0.97      0.98      1039\n",
      "\n",
      "    accuracy                           0.99      5000\n",
      "   macro avg       0.98      0.98      0.98      5000\n",
      "weighted avg       0.99      0.99      0.99      5000\n",
      "\n",
      "Testing ROC AUC Set: \n",
      "               precision    recall  f1-score   support\n",
      "\n",
      "           0       0.99      0.99      0.99      2453\n",
      "           1       0.98      0.98      0.98       690\n",
      "\n",
      "    accuracy                           0.99      3143\n",
      "   macro avg       0.99      0.99      0.99      3143\n",
      "weighted avg       0.99      0.99      0.99      3143\n",
      "\n"
     ]
    }
   ],
   "source": [
    "#classification report on roc_auc_ovr\n",
    "param_occupancy_roc_auc_ovr = model_occupancy.cv_results_['params'][np.argmin(model_occupancy.cv_results_['rank_test_roc_auc_ovr'])]\n",
    "pipe.set_params(**param_occupancy_roc_auc_ovr)\n",
    "pipe.fit(X_o_train, Y_o_train)\n",
    "Y_o_train_pred_roc_auc_ovr = pipe.predict(X_o_train)\n",
    "print(\"Training ROC AUC Set: \\n\", classification_report(Y_o_train,Y_o_train_pred_roc_auc_ovr))\n",
    "\n",
    "pipe.set_params(**param_adult_roc_auc_ovr)\n",
    "pipe.fit(X_o_test, Y_o_test)\n",
    "Y_o_test_pred_roc_auc_ovr = pipe.predict(X_o_test)\n",
    "print(\"Testing ROC AUC Set: \\n\", classification_report(Y_o_test,Y_o_test_pred_roc_auc_ovr))\n"
   ]
  },
  {
   "cell_type": "code",
   "execution_count": 75,
   "metadata": {},
   "outputs": [
    {
     "name": "stdout",
     "output_type": "stream",
     "text": [
      "Training F1 Micro Set\n",
      "               precision    recall  f1-score   support\n",
      "\n",
      "           0       1.00      1.00      1.00      3961\n",
      "           1       0.99      0.99      0.99      1039\n",
      "\n",
      "    accuracy                           1.00      5000\n",
      "   macro avg       0.99      0.99      0.99      5000\n",
      "weighted avg       1.00      1.00      1.00      5000\n",
      "\n",
      "Testing F1 Micro Set\n",
      "               precision    recall  f1-score   support\n",
      "\n",
      "           0       1.00      1.00      1.00      2453\n",
      "           1       0.98      0.99      0.99       690\n",
      "\n",
      "    accuracy                           0.99      3143\n",
      "   macro avg       0.99      0.99      0.99      3143\n",
      "weighted avg       0.99      0.99      0.99      3143\n",
      "\n"
     ]
    }
   ],
   "source": [
    "#classification report on f1_micro\n",
    "param_occupancy_f1_micro = model_occupancy.cv_results_['params'][np.argmin(model_occupancy.cv_results_['rank_test_f1_micro'])]\n",
    "pipe.set_params(**param_occupancy_f1_micro)\n",
    "pipe.fit(X_o_train, Y_o_train)\n",
    "Y_o_train_pred_f1_micro = pipe.predict(X_o_train)\n",
    "print(\"Training F1 Micro Set\\n\",classification_report(Y_o_train,Y_o_train_pred_f1_micro))\n",
    "\n",
    "pipe.set_params(**param_adult_f1_micro)\n",
    "pipe.fit(X_o_test, Y_o_test)\n",
    "Y_o_test_pred_f1_micro = pipe.predict(X_o_test)\n",
    "print(\"Testing F1 Micro Set\\n\", classification_report(Y_o_test,Y_o_test_pred_f1_micro))\n"
   ]
  },
  {
   "cell_type": "markdown",
   "metadata": {},
   "source": [
    "## Scores"
   ]
  },
  {
   "cell_type": "markdown",
   "metadata": {},
   "source": [
    "### Testing Scores"
   ]
  },
  {
   "cell_type": "code",
   "execution_count": 80,
   "metadata": {},
   "outputs": [
    {
     "name": "stdout",
     "output_type": "stream",
     "text": [
      "           Accuracy   ROC AUC  F1 score\n",
      "ADULT      0.835261  0.813984  0.591987\n",
      "LETTER     0.716848  0.718361  0.748773\n",
      "CHESS      0.921666  0.855858  0.706437\n",
      "OCCUPANCY  0.993955  0.987281  0.986262\n"
     ]
    }
   ],
   "source": [
    "graph_test = {'Accuracy': [accuracy_score(Y_a_test_pred_accuracy,Y_a_test),\n",
    "                      accuracy_score(Y_l_test_pred_accuracy,Y_l_test),\n",
    "                      accuracy_score(Y_c_test_pred_accuracy,Y_c_test),\n",
    "                      accuracy_score(Y_o_test_pred_accuracy,Y_o_test)],\n",
    "         'ROC AUC': [roc_auc_score(Y_a_test_pred_roc_auc_ovr,Y_a_test),\n",
    "                     roc_auc_score(Y_l_test_pred_roc_auc_ovr,Y_l_test),\n",
    "                     roc_auc_score(Y_c_test_pred_roc_auc_ovr,Y_c_test),\n",
    "                     roc_auc_score(Y_o_test_pred_roc_auc_ovr,Y_o_test)],\n",
    "         'F1 score': [f1_score(Y_a_test_pred_f1_micro,Y_a_test),\n",
    "                     f1_score(Y_l_test_pred_f1_micro,Y_l_test),\n",
    "                     f1_score(Y_c_test_pred_f1_micro,Y_c_test),\n",
    "                     f1_score(Y_o_test_pred_f1_micro,Y_o_test)]}\n",
    "test_score_df = pd.DataFrame(graph_test, columns=['Accuracy', 'ROC AUC','F1 score'],\n",
    "                       index = ['ADULT', 'LETTER', 'CHESS', 'OCCUPANCY'])\n",
    "print(test_score_df)"
   ]
  },
  {
   "cell_type": "markdown",
   "metadata": {},
   "source": [
    "### Training Scores"
   ]
  },
  {
   "cell_type": "code",
   "execution_count": 58,
   "metadata": {},
   "outputs": [
    {
     "name": "stdout",
     "output_type": "stream",
     "text": [
      "           Accuracy   ROC AUC  F1 score\n",
      "ADULT        0.8396  0.806613  0.582726\n",
      "LETTER       0.7410  0.723571  0.715572\n",
      "CHESS        0.9156  0.875365  0.666667\n",
      "OCCUPANCY    0.9952  0.984676  0.988462\n"
     ]
    }
   ],
   "source": [
    "graph_train = {'Accuracy': [accuracy_score(Y_a_train_pred_accuracy,Y_a_train),\n",
    "                      accuracy_score(Y_l_train_pred_accuracy,Y_l_train),\n",
    "                      accuracy_score(Y_c_train_pred_accuracy,Y_c_train),\n",
    "                      accuracy_score(Y_o_train_pred_accuracy,Y_o_train)],\n",
    "         'ROC AUC': [roc_auc_score(Y_a_train_pred_roc_auc_ovr,Y_a_train),\n",
    "                     roc_auc_score(Y_l_train_pred_roc_auc_ovr,Y_l_train),\n",
    "                     roc_auc_score(Y_c_train_pred_roc_auc_ovr,Y_c_train),\n",
    "                     roc_auc_score(Y_o_train_pred_roc_auc_ovr,Y_o_train)],\n",
    "         'F1 score': [f1_score(Y_a_train_pred_f1_micro,Y_a_train),\n",
    "                     f1_score(Y_l_train_pred_f1_micro,Y_l_train),\n",
    "                     f1_score(Y_c_train_pred_f1_micro,Y_c_train),\n",
    "                     f1_score(Y_o_train_pred_f1_micro,Y_o_train)]}\n",
    "train_score_df = pd.DataFrame(graph_train, columns=['Accuracy', 'ROC AUC','F1 score'],\n",
    "                       index = ['ADULT', 'LETTER', 'CHESS', 'OCCUPANCY'])\n",
    "print(train_score_df)"
   ]
  },
  {
   "cell_type": "markdown",
   "metadata": {},
   "source": [
    "## Heatmaps"
   ]
  },
  {
   "cell_type": "markdown",
   "metadata": {},
   "source": [
    "### ADULT Dataset"
   ]
  },
  {
   "cell_type": "code",
   "execution_count": 19,
   "metadata": {},
   "outputs": [
    {
     "data": {
      "image/png": "[encoded data removed]",
      "text/plain": [
       "<Figure size 432x288 with 2 Axes>"
      ]
     },
     "metadata": {
      "needs_background": "light"
     },
     "output_type": "display_data"
    }
   ],
   "source": [
    "import seaborn as sns\n",
    "\n",
    "results_adult = pd.DataFrame( model_adult.cv_results_['params'] )\n",
    "\n",
    "# next grab the score resulting from those parameters, add it to the data\n",
    "# score is accuracy; to display it as misclassification error we use 1 - x\n",
    "results_adult['score_acc'] = 1 - model_adult.cv_results_['mean_test_accuracy']\n",
    "\n",
    "# get rid of classifier__XX in columns\n",
    "cols_adult = results_adult.columns.to_series().str.split('__').apply(lambda x: x[-1])\n",
    "results_adult.columns = cols_adult\n",
    "\n",
    "\n",
    "# lets show the results for the saga solver across penalty & C values\n",
    "ax_adult = sns.heatmap( results_adult.query('criterion==\"gini\"').pivot('max_depth','min_samples_split','score_acc'),\n",
    "             annot=True, fmt='.3f')"
   ]
  },
  {
   "cell_type": "markdown",
   "metadata": {},
   "source": [
    "### LETTER Dataset"
   ]
  },
  {
   "cell_type": "code",
   "execution_count": 20,
   "metadata": {},
   "outputs": [
    {
     "data": {
      "image/png": "[encoded data removed]",
      "text/plain": [
       "<Figure size 432x288 with 2 Axes>"
      ]
     },
     "metadata": {
      "needs_background": "light"
     },
     "output_type": "display_data"
    }
   ],
   "source": [
    "results_letter = pd.DataFrame( model_letter.cv_results_['params'] )\n",
    "results_letter['score_acc'] = 1 - model_letter.cv_results_['mean_test_accuracy']\n",
    "cols_letter = results_letter.columns.to_series().str.split('__').apply(lambda x: x[-1])\n",
    "results_letter.columns = cols_letter\n",
    "ax_letter = sns.heatmap( results_letter.query('criterion==\"gini\"').pivot('max_depth','min_samples_split','score_acc'),\n",
    "             annot=True, fmt='.3f')"
   ]
  },
  {
   "cell_type": "markdown",
   "metadata": {},
   "source": [
    "### CHESS Dataset"
   ]
  },
  {
   "cell_type": "code",
   "execution_count": 21,
   "metadata": {},
   "outputs": [
    {
     "data": {
      "image/png": "[encoded data removed]",
      "text/plain": [
       "<Figure size 432x288 with 2 Axes>"
      ]
     },
     "metadata": {
      "needs_background": "light"
     },
     "output_type": "display_data"
    }
   ],
   "source": [
    "results_chess = pd.DataFrame( model_chess.cv_results_['params'] )\n",
    "results_chess['score_acc'] = 1 - model_chess.cv_results_['mean_test_accuracy']\n",
    "cols_chess = results_chess.columns.to_series().str.split('__').apply(lambda x: x[-1])\n",
    "results_chess.columns = cols_chess\n",
    "ax_chess = sns.heatmap( results_chess.query('criterion==\"gini\"').pivot('max_depth','min_samples_split','score_acc'),\n",
    "             annot=True, fmt='.3f')"
   ]
  },
  {
   "cell_type": "markdown",
   "metadata": {},
   "source": [
    "### OCCUPANCY Dataset"
   ]
  },
  {
   "cell_type": "code",
   "execution_count": 22,
   "metadata": {
    "scrolled": false
   },
   "outputs": [
    {
     "data": {
      "image/png": "[encoded data removed]",
      "text/plain": [
       "<Figure size 432x288 with 2 Axes>"
      ]
     },
     "metadata": {
      "needs_background": "light"
     },
     "output_type": "display_data"
    }
   ],
   "source": [
    "results_occupancy = pd.DataFrame( model_occupancy.cv_results_['params'] )\n",
    "results_occupancy['score_acc'] = 1 - model_occupancy.cv_results_['mean_test_accuracy']\n",
    "cols_occupancy = results_occupancy.columns.to_series().str.split('__').apply(lambda x: x[-1])\n",
    "results_occupancy.columns = cols_occupancy\n",
    "ax_occupancy = sns.heatmap( results_occupancy.query('criterion==\"gini\"').pivot('max_depth','min_samples_split','score_acc'),\n",
    "             annot=True, fmt='.3f')"
   ]
  },
  {
   "cell_type": "code",
   "execution_count": null,
   "metadata": {},
   "outputs": [],
   "source": []
  }
 ],
 "metadata": {
  "kernelspec": {
   "display_name": "Python 3",
   "language": "python",
   "name": "python3"
  },
  "language_info": {
   "codemirror_mode": {
    "name": "ipython",
    "version": 3
   },
   "file_extension": ".py",
   "mimetype": "text/x-python",
   "name": "python",
   "nbconvert_exporter": "python",
   "pygments_lexer": "ipython3",
   "version": "3.7.6"
  }
 },
 "nbformat": 4,
 "nbformat_minor": 4
}
